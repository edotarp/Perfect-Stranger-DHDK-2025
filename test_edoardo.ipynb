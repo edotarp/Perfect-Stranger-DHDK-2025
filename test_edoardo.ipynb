{
 "cells": [
  {
   "cell_type": "code",
   "execution_count": 1,
   "id": "5042c977",
   "metadata": {},
   "outputs": [],
   "source": [
    "# from impl_to_play import JournalUploadHandler, CategoryUploadHandler, JournalQueryHandler, CategoryQueryHandler, FullQueryEngine\n",
    "from impl import JournalUploadHandler, CategoryUploadHandler, JournalQueryHandler, CategoryQueryHandler, FullQueryEngine\n",
    "# from impl_with_modification import JournalUploadHandler, CategoryUploadHandler, JournalQueryHandler, CategoryQueryHandler, BasicQueryEngine"
   ]
  },
  {
   "cell_type": "code",
   "execution_count": 2,
   "id": "47c146ac",
   "metadata": {},
   "outputs": [],
   "source": [
    "path = \"http://192.168.0.205:9999/blazegraph/\"\n",
    "grp_endpoint = f'{path}sparql'\n",
    "# java -server -Xmx1g -jar blazegraph.jar\n",
    "# python -m unittest test"
   ]
  },
  {
   "cell_type": "code",
   "execution_count": 3,
   "id": "ce8814da",
   "metadata": {},
   "outputs": [
    {
     "data": {
      "text/plain": [
       "True"
      ]
     },
     "execution_count": 3,
     "metadata": {},
     "output_type": "execute_result"
    }
   ],
   "source": [
    "# set Category methods\n",
    "\n",
    "real_path = 'trial.db'\n",
    "cat = CategoryUploadHandler()\n",
    "cat.setDbPathOrUrl(real_path)\n",
    "# cat.pushDataToDb('data/scimago.json')"
   ]
  },
  {
   "cell_type": "code",
   "execution_count": 4,
   "id": "456c0e96",
   "metadata": {},
   "outputs": [
    {
     "data": {
      "text/plain": [
       "True"
      ]
     },
     "execution_count": 4,
     "metadata": {},
     "output_type": "execute_result"
    }
   ],
   "source": [
    "cat_qh = CategoryQueryHandler()\n",
    "cat_qh.setDbPathOrUrl(real_path)"
   ]
  },
  {
   "cell_type": "code",
   "execution_count": 5,
   "id": "fc007877",
   "metadata": {},
   "outputs": [
    {
     "data": {
      "text/plain": [
       "True"
      ]
     },
     "execution_count": 5,
     "metadata": {},
     "output_type": "execute_result"
    }
   ],
   "source": [
    "# set Journal methods\n",
    "\n",
    "jou = JournalUploadHandler()\n",
    "jou.setDbPathOrUrl(grp_endpoint)\n",
    "# jou.pushDataToDb('test_data/doaj.csv')"
   ]
  },
  {
   "cell_type": "code",
   "execution_count": 6,
   "id": "2848de3a",
   "metadata": {},
   "outputs": [
    {
     "data": {
      "text/plain": [
       "True"
      ]
     },
     "execution_count": 6,
     "metadata": {},
     "output_type": "execute_result"
    }
   ],
   "source": [
    "jou_qh = JournalQueryHandler()\n",
    "jou_qh.setDbPathOrUrl(grp_endpoint)"
   ]
  },
  {
   "cell_type": "code",
   "execution_count": 7,
   "id": "e5632965",
   "metadata": {},
   "outputs": [
    {
     "data": {
      "text/plain": [
       "True"
      ]
     },
     "execution_count": 7,
     "metadata": {},
     "output_type": "execute_result"
    }
   ],
   "source": [
    "# set Engine methods\n",
    "\n",
    "que = FullQueryEngine()\n",
    "que.addJournalHandler(jou_qh)\n",
    "que.addCategoryHandler(cat_qh)"
   ]
  },
  {
   "cell_type": "code",
   "execution_count": 8,
   "id": "35e93ca4",
   "metadata": {},
   "outputs": [
    {
     "data": {
      "application/vnd.microsoft.datawrangler.viewer.v0+json": {
       "columns": [
        {
         "name": "index",
         "rawType": "int64",
         "type": "integer"
        },
        {
         "name": "journal",
         "rawType": "object",
         "type": "string"
        },
        {
         "name": "title",
         "rawType": "object",
         "type": "string"
        },
        {
         "name": "identifiers",
         "rawType": "object",
         "type": "unknown"
        },
        {
         "name": "languages",
         "rawType": "object",
         "type": "unknown"
        },
        {
         "name": "publisher",
         "rawType": "object",
         "type": "string"
        },
        {
         "name": "license",
         "rawType": "object",
         "type": "string"
        },
        {
         "name": "apc",
         "rawType": "object",
         "type": "string"
        },
        {
         "name": "seal",
         "rawType": "object",
         "type": "string"
        }
       ],
       "ref": "8b4cf218-f008-470c-b0e1-2bb48bc5181c",
       "rows": [
        [
         "0",
         "https://comp-data.github.io/resjournal-19170",
         "Promet (Zagreb)",
         "['1848-4069', '0353-5320']",
         "['English']",
         "University of Zagreb, Faculty of Transport and Traffic Sciences",
         "CC BY",
         "Yes",
         "No"
        ],
        [
         "1",
         "https://comp-data.github.io/resjournal-12239",
         "Papers from the Institute of Archaeology",
         "['0965-9315', '2041-9015']",
         "['English']",
         "University College London",
         "CC BY",
         "No",
         "No"
        ],
        [
         "2",
         "https://comp-data.github.io/resjournal-5593",
         "Zhongguo Jianchuan Yanjiu",
         "['1673-3185']",
         "['English', 'Chinese']",
         "Editorial Office of Chinese Journal of Ship Research",
         "CC BY",
         "Yes",
         "No"
        ],
        [
         "3",
         "https://comp-data.github.io/resjournal-11141",
         "Journal of Technology Management & Innovation",
         "['0718-2724']",
         "['English', 'Spanish']",
         "Universidad Alberto Hurtado",
         "CC BY",
         "No",
         "No"
        ],
        [
         "4",
         "https://comp-data.github.io/resjournal-4277",
         "Dinamika Rekayasa",
         "['1858-3075', '2527-6131']",
         "['Indonesian']",
         "Universitas Jenderal Soedirman",
         "CC BY",
         "No",
         "No"
        ],
        [
         "5",
         "https://comp-data.github.io/resjournal-18687",
         "Cellular Oncology",
         "['1570-5870', '1875-8606']",
         "['English']",
         "Wiley",
         "CC BY",
         "Yes",
         "No"
        ],
        [
         "6",
         "https://comp-data.github.io/resjournal-3755",
         "Revista Paulista de Pediatria",
         "['1984-0462']",
         "['English', 'Spanish', 'Portuguese']",
         "Sociedade de Pediatria de São Paulo",
         "CC BY",
         "No",
         "No"
        ],
        [
         "7",
         "https://comp-data.github.io/resjournal-8873",
         "International Journal of Computing Sciences Research",
         "['2546-0552']",
         "['English']",
         "STEP Academic Publisher",
         "CC BY",
         "No",
         "No"
        ],
        [
         "8",
         "https://comp-data.github.io/resjournal-7487",
         "Revista de Ciências Humanas",
         "['1981-9250', '1518-4684']",
         "['Portuguese']",
         "Universidade Regional Integrada do Alto Uruguai e das Missões (URI)",
         "CC BY",
         "No",
         "No"
        ],
        [
         "9",
         "https://comp-data.github.io/resjournal-3586",
         "Revista Brasileira da Educação Profissional e Tecnológica",
         "['1983-0408', '2447-1801']",
         "['Portuguese']",
         "Instituto Federal de Educação, Ciência e Tecnologia do Rio Grande do Norte",
         "CC BY",
         "No",
         "No"
        ],
        [
         "10",
         "https://comp-data.github.io/resjournal-9236",
         "Енциклопедичний Вісник України",
         "['2706-9990', '2707-000X']",
         "['English', 'Ukrainian']",
         "National Academy of Sciences of Ukraine, Institute of Encyclopedic Research",
         "CC BY",
         "No",
         "No"
        ],
        [
         "11",
         "https://comp-data.github.io/resjournal-17054",
         "GigaByte",
         "['2709-4715']",
         "['English']",
         "GigaScience Press",
         "CC BY",
         "Yes",
         "Yes"
        ],
        [
         "12",
         "https://comp-data.github.io/resjournal-2364",
         "Journal of Anomalous Experience and Cognition",
         "['2004-1977', '2004-1969']",
         "['English']",
         "Parapsychology Foundation",
         "CC BY",
         "No",
         "No"
        ],
        [
         "13",
         "https://comp-data.github.io/resjournal-13721",
         "Majallah-i Bālīnī-i Parastārī va Māmāyī",
         "['2322-4703', '2345-6884']",
         "['Persian']",
         "Shahrekord University of Medical Sciences",
         "CC BY",
         "No",
         "No"
        ],
        [
         "14",
         "https://comp-data.github.io/resjournal-5193",
         "European Journal of Futures Research",
         "['2195-4194', '2195-2248']",
         "['English']",
         "SpringerOpen",
         "CC BY",
         "Yes",
         "Yes"
        ],
        [
         "15",
         "https://comp-data.github.io/resjournal-7053",
         "Advances in Clinical Neuroscience & Rehabilitation",
         "['1473-9348', '2397-267X']",
         "['English']",
         "Whitehouse Publishing",
         "CC BY",
         "No",
         "No"
        ],
        [
         "16",
         "https://comp-data.github.io/resjournal-7143",
         "Revista Geografar",
         "['1981-089X']",
         "['Spanish', 'Portuguese']",
         "Universidade Federal do Paraná",
         "CC BY",
         "No",
         "No"
        ],
        [
         "17",
         "https://comp-data.github.io/resjournal-293",
         "Jurnal Tata Kota dan Daerah",
         "['2338-168X', '2686-5742']",
         "['English', 'Indonesian']",
         "Universitas Brawijaya",
         "CC BY",
         "No",
         "No"
        ],
        [
         "18",
         "https://comp-data.github.io/resjournal-17618",
         "Frontiers in Medical Technology",
         "['2673-3129']",
         "['English']",
         "Frontiers Media S.A.",
         "CC BY",
         "Yes",
         "Yes"
        ],
        [
         "19",
         "https://comp-data.github.io/resjournal-7991",
         "Urbana: Urban Affairs and Public Policy",
         "['2151-1896']",
         "['English', 'Spanish']",
         "Urbana: Urban Affairs and Public Policy",
         "CC BY",
         "No",
         "No"
        ],
        [
         "20",
         "https://comp-data.github.io/resjournal-7062",
         "Jurnal Living Hadis",
         "['2548-4761', '2528-7567']",
         "['English', 'Indonesian', 'Arabic']",
         "Program Studi Ilmu Hadis",
         "CC BY",
         "No",
         "No"
        ],
        [
         "21",
         "https://comp-data.github.io/resjournal-17737",
         "مجلة علوم الرافدين",
         "['1608-9391', '2664-2786']",
         "['English', 'Arabic']",
         "College of Science, University of Mosul",
         "CC BY",
         "Yes",
         "No"
        ],
        [
         "22",
         "https://comp-data.github.io/resjournal-7318",
         "Lengua y Sociedad",
         "['2413-2659', '1729-9721']",
         "['Spanish']",
         "Universidad Nacional Mayor de San Marcos",
         "CC BY",
         "No",
         "No"
        ],
        [
         "23",
         "https://comp-data.github.io/resjournal-6892",
         "Pubvet",
         "['1982-1263']",
         "['English', 'Spanish', 'Portuguese']",
         "Editora MV Valero",
         "CC BY",
         "Yes",
         "No"
        ],
        [
         "24",
         "https://comp-data.github.io/resjournal-11966",
         "Кардиоваскулярная терапия и профилактика",
         "['2619-0125', '1728-8800']",
         "['Russian']",
         "«SILICEA-POLIGRAF» LLC",
         "CC BY",
         "No",
         "Yes"
        ],
        [
         "25",
         "https://comp-data.github.io/resjournal-18988",
         "International Journal of Arrhythmia",
         "['2466-0981', '2466-1171']",
         "['English']",
         "BMC",
         "CC BY",
         "No",
         "No"
        ],
        [
         "26",
         "https://comp-data.github.io/resjournal-17525",
         "Journal of Mechanics",
         "['1811-8216', '1727-7191']",
         "['English']",
         "Oxford University Press",
         "CC BY",
         "Yes",
         "No"
        ],
        [
         "27",
         "https://comp-data.github.io/resjournal-12601",
         "Jurnal Perspektif Pembiayaan dan Pembangunan Daerah",
         "['2338-4603', '2355-8520']",
         "['English', 'Indonesian']",
         "Master Program in Economics, Graduate Program of Universitas Jambi",
         "CC BY",
         "Yes",
         "Yes"
        ],
        [
         "28",
         "https://comp-data.github.io/resjournal-20725",
         "Frontiers in Materials",
         "['2296-8016']",
         "['English']",
         "Frontiers Media S.A.",
         "CC BY",
         "Yes",
         "Yes"
        ],
        [
         "29",
         "https://comp-data.github.io/resjournal-14080",
         "Agrotechniques in Industrial Crops",
         "['2783-2945']",
         "['English']",
         "Razi University",
         "CC BY",
         "No",
         "No"
        ],
        [
         "30",
         "https://comp-data.github.io/resjournal-7909",
         "Textpraxis",
         "['2191-8236']",
         "['English', 'German']",
         "Graduate School: Practices of Literature",
         "CC BY",
         "No",
         "No"
        ],
        [
         "31",
         "https://comp-data.github.io/resjournal-20354",
         "Sömn och Hälsa",
         "['2003-234X', '2003-2501']",
         "['English', 'Swedish']",
         "Kristianstad University Press",
         "CC BY",
         "No",
         "No"
        ],
        [
         "32",
         "https://comp-data.github.io/resjournal-16441",
         "Ri-vista: Ricerche per la Progettazione del Paesaggio",
         "['1724-6768']",
         "['English', 'Italian']",
         "Firenze University Press",
         "CC BY",
         "No",
         "No"
        ],
        [
         "33",
         "https://comp-data.github.io/resjournal-16459",
         "International Journal of Business, Economics, and Social Development",
         "['2722-1156', '2722-1164']",
         "['English']",
         "Research Collaboration Community (RCC)",
         "CC BY",
         "Yes",
         "No"
        ],
        [
         "34",
         "https://comp-data.github.io/resjournal-16049",
         "Internet Archaeology",
         "['1363-5387']",
         "['English']",
         "University of York",
         "CC BY",
         "Yes",
         "Yes"
        ],
        [
         "35",
         "https://comp-data.github.io/resjournal-13856",
         "Психолінгвістика",
         "['2415-3397', '2309-1797']",
         "['English', 'Russian', 'Ukrainian']",
         "Pereiaslav-Khmelnytsky Hryhorii Skovoroda State Pedagogical University",
         "CC BY",
         "Yes",
         "No"
        ],
        [
         "36",
         "https://comp-data.github.io/resjournal-11700",
         "Journal of the Turkish Chemical Society Section C Chemical Education",
         "['2459-1734']",
         "['English', 'Turkish']",
         "Turkish Chemical Society",
         "CC BY",
         "No",
         "No"
        ],
        [
         "37",
         "https://comp-data.github.io/resjournal-3317",
         "Наука. Культура. Общество",
         "['2713-0681']",
         "['English', 'Russian']",
         "Russian Academy of Sciences, Federal Center of Theoretical and Applied Sociology",
         "CC BY",
         "No",
         "No"
        ],
        [
         "38",
         "https://comp-data.github.io/resjournal-3122",
         "Irish Journal of Technology Enhanced Learning",
         "['2009-972X']",
         "['English']",
         "Irish Learning Technology Association",
         "CC BY",
         "No",
         "No"
        ],
        [
         "39",
         "https://comp-data.github.io/resjournal-12218",
         "Alfarama Journal of Basic & Applied Sciences",
         "['2682-275X']",
         "['English']",
         "Port Said University, Faculty of Sciences",
         "CC BY",
         "Yes",
         "No"
        ],
        [
         "40",
         "https://comp-data.github.io/resjournal-18484",
         "Global Health, Epidemiology and Genomics",
         "['2054-4200']",
         "['English']",
         "Wiley",
         "CC BY",
         "Yes",
         "No"
        ],
        [
         "41",
         "https://comp-data.github.io/resjournal-10019",
         "Elemente der Mathematik",
         "['0013-6018', '1420-8962']",
         "['French', 'English', 'Italian', 'German']",
         "EMS Press",
         "CC BY",
         "No",
         "No"
        ],
        [
         "42",
         "https://comp-data.github.io/resjournal-5249",
         "Journal of Wood Science",
         "['1611-4663', '1435-0211']",
         "['English']",
         "SpringerOpen",
         "CC BY",
         "Yes",
         "No"
        ],
        [
         "43",
         "https://comp-data.github.io/resjournal-432",
         "Geographica Pannonica",
         "['0354-8724', '1820-7138']",
         "['English']",
         "University of Novi Sad, Department of Geography, Tourism and Hotel Management",
         "CC BY",
         "No",
         "No"
        ],
        [
         "44",
         "https://comp-data.github.io/resjournal-2820",
         "Revista de Constitucionalização do Direito Brasileiro",
         "['2674-7626', '2595-9840']",
         "['Portuguese']",
         "Instituto Carlos Alexandre Moraes - ICAM",
         "CC BY",
         "No",
         "No"
        ],
        [
         "45",
         "https://comp-data.github.io/resjournal-9453",
         "Estudos do Século XX",
         "['1645-3530', '1647-8622']",
         "['Portuguese']",
         "Coimbra University Press",
         "CC BY",
         "No",
         "No"
        ],
        [
         "46",
         "https://comp-data.github.io/resjournal-13679",
         "Physical Review Special Topics. Physics Education Research",
         "['1554-9178']",
         "['English']",
         "American Physical Society",
         "CC BY",
         "Yes",
         "No"
        ],
        [
         "47",
         "https://comp-data.github.io/resjournal-6650",
         "Revista de Estudos Literários",
         "['2183-847X', '2182-1526']",
         "['French', 'English', 'Spanish', 'Italian', 'Portuguese']",
         "Imprensa da Universidade de Coimbra",
         "CC BY",
         "No",
         "No"
        ],
        [
         "48",
         "https://comp-data.github.io/resjournal-20317",
         "JMIR Neurotechnology",
         "['2817-092X']",
         "['English']",
         "JMIR Publications",
         "CC BY",
         "Yes",
         "No"
        ],
        [
         "49",
         "https://comp-data.github.io/resjournal-6793",
         "Наукові записки Сумського державного педагогічного університету ім. А.С. Макаренка. Географічні науки",
         "['2413-8800', '2524-2598']",
         "['English', 'Ukrainian']",
         "Sumy State Pedagogical University named after A.S. Makarenko",
         "CC BY",
         "Yes",
         "No"
        ]
       ],
       "shape": {
        "columns": 8,
        "rows": 8559
       }
      },
      "text/html": [
       "<div>\n",
       "<style scoped>\n",
       "    .dataframe tbody tr th:only-of-type {\n",
       "        vertical-align: middle;\n",
       "    }\n",
       "\n",
       "    .dataframe tbody tr th {\n",
       "        vertical-align: top;\n",
       "    }\n",
       "\n",
       "    .dataframe thead th {\n",
       "        text-align: right;\n",
       "    }\n",
       "</style>\n",
       "<table border=\"1\" class=\"dataframe\">\n",
       "  <thead>\n",
       "    <tr style=\"text-align: right;\">\n",
       "      <th></th>\n",
       "      <th>journal</th>\n",
       "      <th>title</th>\n",
       "      <th>identifiers</th>\n",
       "      <th>languages</th>\n",
       "      <th>publisher</th>\n",
       "      <th>license</th>\n",
       "      <th>apc</th>\n",
       "      <th>seal</th>\n",
       "    </tr>\n",
       "  </thead>\n",
       "  <tbody>\n",
       "    <tr>\n",
       "      <th>0</th>\n",
       "      <td>https://comp-data.github.io/resjournal-19170</td>\n",
       "      <td>Promet (Zagreb)</td>\n",
       "      <td>[1848-4069, 0353-5320]</td>\n",
       "      <td>[English]</td>\n",
       "      <td>University of Zagreb, Faculty of Transport and...</td>\n",
       "      <td>CC BY</td>\n",
       "      <td>Yes</td>\n",
       "      <td>No</td>\n",
       "    </tr>\n",
       "    <tr>\n",
       "      <th>1</th>\n",
       "      <td>https://comp-data.github.io/resjournal-12239</td>\n",
       "      <td>Papers from the Institute of Archaeology</td>\n",
       "      <td>[0965-9315, 2041-9015]</td>\n",
       "      <td>[English]</td>\n",
       "      <td>University College London</td>\n",
       "      <td>CC BY</td>\n",
       "      <td>No</td>\n",
       "      <td>No</td>\n",
       "    </tr>\n",
       "    <tr>\n",
       "      <th>2</th>\n",
       "      <td>https://comp-data.github.io/resjournal-5593</td>\n",
       "      <td>Zhongguo Jianchuan Yanjiu</td>\n",
       "      <td>[1673-3185]</td>\n",
       "      <td>[English, Chinese]</td>\n",
       "      <td>Editorial Office of Chinese Journal of Ship Re...</td>\n",
       "      <td>CC BY</td>\n",
       "      <td>Yes</td>\n",
       "      <td>No</td>\n",
       "    </tr>\n",
       "    <tr>\n",
       "      <th>3</th>\n",
       "      <td>https://comp-data.github.io/resjournal-11141</td>\n",
       "      <td>Journal of Technology Management &amp; Innovation</td>\n",
       "      <td>[0718-2724]</td>\n",
       "      <td>[English, Spanish]</td>\n",
       "      <td>Universidad Alberto Hurtado</td>\n",
       "      <td>CC BY</td>\n",
       "      <td>No</td>\n",
       "      <td>No</td>\n",
       "    </tr>\n",
       "    <tr>\n",
       "      <th>4</th>\n",
       "      <td>https://comp-data.github.io/resjournal-4277</td>\n",
       "      <td>Dinamika Rekayasa</td>\n",
       "      <td>[1858-3075, 2527-6131]</td>\n",
       "      <td>[Indonesian]</td>\n",
       "      <td>Universitas Jenderal Soedirman</td>\n",
       "      <td>CC BY</td>\n",
       "      <td>No</td>\n",
       "      <td>No</td>\n",
       "    </tr>\n",
       "    <tr>\n",
       "      <th>...</th>\n",
       "      <td>...</td>\n",
       "      <td>...</td>\n",
       "      <td>...</td>\n",
       "      <td>...</td>\n",
       "      <td>...</td>\n",
       "      <td>...</td>\n",
       "      <td>...</td>\n",
       "      <td>...</td>\n",
       "    </tr>\n",
       "    <tr>\n",
       "      <th>8554</th>\n",
       "      <td>https://comp-data.github.io/resjournal-4615</td>\n",
       "      <td>Conversas &amp; Controvérsias</td>\n",
       "      <td>[2178-5694]</td>\n",
       "      <td>[Portuguese]</td>\n",
       "      <td>Pontifícia Universidade Católica do Rio Grande...</td>\n",
       "      <td>CC BY</td>\n",
       "      <td>No</td>\n",
       "      <td>No</td>\n",
       "    </tr>\n",
       "    <tr>\n",
       "      <th>8555</th>\n",
       "      <td>https://comp-data.github.io/resjournal-19578</td>\n",
       "      <td>Global Challenges</td>\n",
       "      <td>[2056-6646]</td>\n",
       "      <td>[English]</td>\n",
       "      <td>Wiley</td>\n",
       "      <td>CC BY</td>\n",
       "      <td>Yes</td>\n",
       "      <td>No</td>\n",
       "    </tr>\n",
       "    <tr>\n",
       "      <th>8556</th>\n",
       "      <td>https://comp-data.github.io/resjournal-683</td>\n",
       "      <td>Perduli</td>\n",
       "      <td>[2962-2174]</td>\n",
       "      <td>[Indonesian]</td>\n",
       "      <td>Fakultas Keguruan Dan Ilmu Kependidikan Univer...</td>\n",
       "      <td>CC BY</td>\n",
       "      <td>No</td>\n",
       "      <td>No</td>\n",
       "    </tr>\n",
       "    <tr>\n",
       "      <th>8557</th>\n",
       "      <td>https://comp-data.github.io/resjournal-8091</td>\n",
       "      <td>Вісник Харківського національного університету...</td>\n",
       "      <td>[2220-6396, 2220-637X]</td>\n",
       "      <td>[English, Ukrainian]</td>\n",
       "      <td>V. N. Karazin Kharkiv National University</td>\n",
       "      <td>CC BY</td>\n",
       "      <td>No</td>\n",
       "      <td>No</td>\n",
       "    </tr>\n",
       "    <tr>\n",
       "      <th>8558</th>\n",
       "      <td>https://comp-data.github.io/resjournal-1473</td>\n",
       "      <td>State Crime</td>\n",
       "      <td>[2046-6064, 2046-6056]</td>\n",
       "      <td>[English]</td>\n",
       "      <td>Pluto Journals</td>\n",
       "      <td>CC BY</td>\n",
       "      <td>No</td>\n",
       "      <td>No</td>\n",
       "    </tr>\n",
       "  </tbody>\n",
       "</table>\n",
       "<p>8559 rows × 8 columns</p>\n",
       "</div>"
      ],
      "text/plain": [
       "                                           journal  \\\n",
       "0     https://comp-data.github.io/resjournal-19170   \n",
       "1     https://comp-data.github.io/resjournal-12239   \n",
       "2      https://comp-data.github.io/resjournal-5593   \n",
       "3     https://comp-data.github.io/resjournal-11141   \n",
       "4      https://comp-data.github.io/resjournal-4277   \n",
       "...                                            ...   \n",
       "8554   https://comp-data.github.io/resjournal-4615   \n",
       "8555  https://comp-data.github.io/resjournal-19578   \n",
       "8556    https://comp-data.github.io/resjournal-683   \n",
       "8557   https://comp-data.github.io/resjournal-8091   \n",
       "8558   https://comp-data.github.io/resjournal-1473   \n",
       "\n",
       "                                                  title  \\\n",
       "0                                       Promet (Zagreb)   \n",
       "1              Papers from the Institute of Archaeology   \n",
       "2                             Zhongguo Jianchuan Yanjiu   \n",
       "3         Journal of Technology Management & Innovation   \n",
       "4                                     Dinamika Rekayasa   \n",
       "...                                                 ...   \n",
       "8554                          Conversas & Controvérsias   \n",
       "8555                                  Global Challenges   \n",
       "8556                                            Perduli   \n",
       "8557  Вісник Харківського національного університету...   \n",
       "8558                                        State Crime   \n",
       "\n",
       "                 identifiers             languages  \\\n",
       "0     [1848-4069, 0353-5320]             [English]   \n",
       "1     [0965-9315, 2041-9015]             [English]   \n",
       "2                [1673-3185]    [English, Chinese]   \n",
       "3                [0718-2724]    [English, Spanish]   \n",
       "4     [1858-3075, 2527-6131]          [Indonesian]   \n",
       "...                      ...                   ...   \n",
       "8554             [2178-5694]          [Portuguese]   \n",
       "8555             [2056-6646]             [English]   \n",
       "8556             [2962-2174]          [Indonesian]   \n",
       "8557  [2220-6396, 2220-637X]  [English, Ukrainian]   \n",
       "8558  [2046-6064, 2046-6056]             [English]   \n",
       "\n",
       "                                              publisher license  apc seal  \n",
       "0     University of Zagreb, Faculty of Transport and...   CC BY  Yes   No  \n",
       "1                             University College London   CC BY   No   No  \n",
       "2     Editorial Office of Chinese Journal of Ship Re...   CC BY  Yes   No  \n",
       "3                           Universidad Alberto Hurtado   CC BY   No   No  \n",
       "4                        Universitas Jenderal Soedirman   CC BY   No   No  \n",
       "...                                                 ...     ...  ...  ...  \n",
       "8554  Pontifícia Universidade Católica do Rio Grande...   CC BY   No   No  \n",
       "8555                                              Wiley   CC BY  Yes   No  \n",
       "8556  Fakultas Keguruan Dan Ilmu Kependidikan Univer...   CC BY   No   No  \n",
       "8557          V. N. Karazin Kharkiv National University   CC BY   No   No  \n",
       "8558                                     Pluto Journals   CC BY   No   No  \n",
       "\n",
       "[8559 rows x 8 columns]"
      ]
     },
     "execution_count": 8,
     "metadata": {},
     "output_type": "execute_result"
    }
   ],
   "source": [
    "# result_j1 = jou_qh.getById(\"1676-3025\") # 1676-1871,1676-3025, just_a_test\n",
    "# result_j1 = jou_qh.getAllJournals()\n",
    "# result_j1 = jou_qh.getJournalsWithTitle('Asian Academy of Management Journal of Accounting and Finance')\n",
    "# result_j1 = jou_qh.getJournalsPublishedBy('')\n",
    "result_j1 = jou_qh.getJournalsWithLicense({'CC BY'})\n",
    "# result_j1 = jou_qh.getJournalsWithAPC()\n",
    "# result_j1 = jou_qh.getJournalsWithDOAJSeal()\n",
    "result_j1\n",
    "# type(result_j1)\n",
    "# CC BY, CC BY-NC"
   ]
  },
  {
   "cell_type": "code",
   "execution_count": 9,
   "id": "5baf5d46",
   "metadata": {},
   "outputs": [
    {
     "name": "stdout",
     "output_type": "stream",
     "text": [
      "Empty DataFrame\n",
      "Columns: []\n",
      "Index: []\n"
     ]
    },
    {
     "data": {
      "text/plain": [
       "pandas.core.frame.DataFrame"
      ]
     },
     "execution_count": 9,
     "metadata": {},
     "output_type": "execute_result"
    }
   ],
   "source": [
    "# result_c1 = cat_qh.getAllCategories()\n",
    "result_c1 = cat_qh.getById('just_a_test')\n",
    "# result_c1 = cat_qh.getAllAreas()\n",
    "# result_c1 = cat_qh.getCategoriesWithQuartile({'Q1'})\n",
    "# result_c1 = cat_qh.getCategoriesAssignedToAreas({})  \n",
    "# result_c1 = cat_qh.getAreasAssignedToCategories({}) \n",
    "\n",
    "# print(result_c1.loc[result_c1['category_id']=='Agronomy and Crop Science'])\n",
    "print(result_c1)\n",
    "type(result_c1)"
   ]
  },
  {
   "cell_type": "code",
   "execution_count": 13,
   "id": "4d7d33f8",
   "metadata": {},
   "outputs": [
    {
     "data": {
      "text/plain": [
       "['Computer Science', 'Medicine']"
      ]
     },
     "execution_count": 13,
     "metadata": {},
     "output_type": "execute_result"
    }
   ],
   "source": [
    "# result_q1 = que.getEntityById(\"just_a_test\") # 1676-1871 # Oncology\n",
    "# result_q1 = que.getAllJournals()\n",
    "# result_q1 = que.getJournalsWithTitle('Boletín del Museo Arqueológico Nacional')\n",
    "# result_q1 = que.getJournalsPublishedBy('ITB Journal Publisher')\n",
    "# result_q1 = que.getJournalsWithLicense({'CC BY'})\n",
    "# result_q1 = que.getJournalsWithAPC()\n",
    "# result_q1 = que.getJournalsWithDOAJSeal()\n",
    "\n",
    "# result_q1 = que.getAllCategories()\n",
    "result_q1 = que.getAllAreas()\n",
    "# result_q1 = que.getCategoriesWithQuartile({'Q1'})\n",
    "# result_q1 = que.getCategoriesAssignedToAreas({'Medicine'})\n",
    "# result_q1 = que.getAreasAssignedToCategories({'Artificial Intelligence', 'Oncology'})\n",
    "\n",
    "# result_q1 = que.getJournalsInCategoriesWithQuartile({}, {})\n",
    "# result_q1 = que.getJournalsInAreasWithLicense(area={}, license={})\n",
    "# result_q1 = que.getDiamondJournalsInAreasAndCategoriesWithQuartile({}, {}, {})\n",
    "\n",
    "result_q1\n",
    "# journals' methods\n",
    "result_q1[1].getIds()\n",
    "# result_q1[0].getTitle()\n",
    "# result_q1[0].getLanguages()\n",
    "# result_q1[0].getPublisher()\n",
    "# result_q1[0].hasDOAJSeal()\n",
    "# result_q1[0].getLicence()\n",
    "# result_q1[0].hasAPC()\n",
    "# result_q1[0].getCategories()\n",
    "# result_q1[1].getAreas()\n",
    "\n",
    "# category method\n",
    "# result_q1[0].getQuartile()\n",
    "\n",
    "# for cat in result_q1:\n",
    "#     print(cat.getAreas())  \n",
    "\n",
    "# print(result_q1)\n",
    "# for j in result_q1:\n",
    "#     print(j.getCategories())"
   ]
  }
 ],
 "metadata": {
  "kernelspec": {
   "display_name": "edo_venv",
   "language": "python",
   "name": "python3"
  },
  "language_info": {
   "codemirror_mode": {
    "name": "ipython",
    "version": 3
   },
   "file_extension": ".py",
   "mimetype": "text/x-python",
   "name": "python",
   "nbconvert_exporter": "python",
   "pygments_lexer": "ipython3",
   "version": "3.11.9"
  }
 },
 "nbformat": 4,
 "nbformat_minor": 5
}
